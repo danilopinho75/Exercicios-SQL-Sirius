{
  "nbformat": 4,
  "nbformat_minor": 0,
  "metadata": {
    "colab": {
      "provenance": [],
      "include_colab_link": true
    },
    "kernelspec": {
      "name": "python3",
      "display_name": "Python 3"
    },
    "language_info": {
      "name": "python"
    }
  },
  "cells": [
    {
      "cell_type": "markdown",
      "metadata": {
        "id": "view-in-github",
        "colab_type": "text"
      },
      "source": [
        "<a href=\"https://colab.research.google.com/github/danilopinho75/Exercicios-SQL-Sirius/blob/main/SQL_Aula02_Exerc%C3%ADcios.ipynb\" target=\"_parent\"><img src=\"https://colab.research.google.com/assets/colab-badge.svg\" alt=\"Open In Colab\"/></a>"
      ]
    },
    {
      "cell_type": "markdown",
      "source": [
        "# Setup"
      ],
      "metadata": {
        "id": "GKBpPOP0_P0c"
      }
    },
    {
      "cell_type": "code",
      "execution_count": 1,
      "metadata": {
        "id": "s8MPmZxL_NnW",
        "colab": {
          "base_uri": "https://localhost:8080/"
        },
        "outputId": "38cc7c9f-74a0-4b7e-b7cf-36b395a1201d"
      },
      "outputs": [
        {
          "output_type": "stream",
          "name": "stdout",
          "text": [
            "Requirement already satisfied: jupysql in /usr/local/lib/python3.10/dist-packages (0.10.12)\n",
            "Requirement already satisfied: prettytable in /usr/local/lib/python3.10/dist-packages (from jupysql) (3.11.0)\n",
            "Requirement already satisfied: sqlalchemy in /usr/local/lib/python3.10/dist-packages (from jupysql) (2.0.32)\n",
            "Requirement already satisfied: sqlparse in /usr/local/lib/python3.10/dist-packages (from jupysql) (0.5.1)\n",
            "Requirement already satisfied: ipython-genutils>=0.1.0 in /usr/local/lib/python3.10/dist-packages (from jupysql) (0.2.0)\n",
            "Requirement already satisfied: jinja2 in /usr/local/lib/python3.10/dist-packages (from jupysql) (3.1.4)\n",
            "Requirement already satisfied: sqlglot>=11.3.7 in /usr/local/lib/python3.10/dist-packages (from jupysql) (20.11.0)\n",
            "Requirement already satisfied: jupysql-plugin>=0.4.2 in /usr/local/lib/python3.10/dist-packages (from jupysql) (0.4.4)\n",
            "Requirement already satisfied: ploomber-core>=0.2.7 in /usr/local/lib/python3.10/dist-packages (from jupysql) (0.2.25)\n",
            "Requirement already satisfied: ploomber-extension in /usr/local/lib/python3.10/dist-packages (from jupysql) (0.1.1)\n",
            "Requirement already satisfied: pyyaml in /usr/local/lib/python3.10/dist-packages (from ploomber-core>=0.2.7->jupysql) (6.0.2)\n",
            "Requirement already satisfied: posthog in /usr/local/lib/python3.10/dist-packages (from ploomber-core>=0.2.7->jupysql) (3.6.0)\n",
            "Requirement already satisfied: MarkupSafe>=2.0 in /usr/local/lib/python3.10/dist-packages (from jinja2->jupysql) (2.1.5)\n",
            "Requirement already satisfied: wcwidth in /usr/local/lib/python3.10/dist-packages (from prettytable->jupysql) (0.2.13)\n",
            "Requirement already satisfied: typing-extensions>=4.6.0 in /usr/local/lib/python3.10/dist-packages (from sqlalchemy->jupysql) (4.12.2)\n",
            "Requirement already satisfied: greenlet!=0.4.17 in /usr/local/lib/python3.10/dist-packages (from sqlalchemy->jupysql) (3.0.3)\n",
            "Requirement already satisfied: requests<3.0,>=2.7 in /usr/local/lib/python3.10/dist-packages (from posthog->ploomber-core>=0.2.7->jupysql) (2.32.3)\n",
            "Requirement already satisfied: six>=1.5 in /usr/local/lib/python3.10/dist-packages (from posthog->ploomber-core>=0.2.7->jupysql) (1.16.0)\n",
            "Requirement already satisfied: monotonic>=1.5 in /usr/local/lib/python3.10/dist-packages (from posthog->ploomber-core>=0.2.7->jupysql) (1.6)\n",
            "Requirement already satisfied: backoff>=1.10.0 in /usr/local/lib/python3.10/dist-packages (from posthog->ploomber-core>=0.2.7->jupysql) (2.2.1)\n",
            "Requirement already satisfied: python-dateutil>2.1 in /usr/local/lib/python3.10/dist-packages (from posthog->ploomber-core>=0.2.7->jupysql) (2.8.2)\n",
            "Requirement already satisfied: charset-normalizer<4,>=2 in /usr/local/lib/python3.10/dist-packages (from requests<3.0,>=2.7->posthog->ploomber-core>=0.2.7->jupysql) (3.3.2)\n",
            "Requirement already satisfied: idna<4,>=2.5 in /usr/local/lib/python3.10/dist-packages (from requests<3.0,>=2.7->posthog->ploomber-core>=0.2.7->jupysql) (3.8)\n",
            "Requirement already satisfied: urllib3<3,>=1.21.1 in /usr/local/lib/python3.10/dist-packages (from requests<3.0,>=2.7->posthog->ploomber-core>=0.2.7->jupysql) (2.0.7)\n",
            "Requirement already satisfied: certifi>=2017.4.17 in /usr/local/lib/python3.10/dist-packages (from requests<3.0,>=2.7->posthog->ploomber-core>=0.2.7->jupysql) (2024.7.4)\n"
          ]
        }
      ],
      "source": [
        "!pip install jupysql"
      ]
    },
    {
      "cell_type": "code",
      "source": [
        "%load_ext sql"
      ],
      "metadata": {
        "id": "pZ35BFjB_Rxd",
        "colab": {
          "base_uri": "https://localhost:8080/"
        },
        "outputId": "aa0c09bd-f793-46d1-9670-634f937006a8"
      },
      "execution_count": 2,
      "outputs": [
        {
          "output_type": "stream",
          "name": "stdout",
          "text": [
            "Deploy FastAPI apps for free on Ploomber Cloud! Learn more: https://ploomber.io/s/signup\n"
          ]
        }
      ]
    },
    {
      "cell_type": "code",
      "source": [
        "%sql sqlite:///"
      ],
      "metadata": {
        "id": "LXYwQKFh_Sx9",
        "colab": {
          "base_uri": "https://localhost:8080/",
          "height": 34
        },
        "outputId": "6d0d226a-5f52-47c4-e32f-a161ab47e528"
      },
      "execution_count": 3,
      "outputs": [
        {
          "output_type": "display_data",
          "data": {
            "text/plain": [
              "Connecting to 'sqlite:///'"
            ],
            "text/html": [
              "<span style=\"None\">Connecting to &#x27;sqlite:///&#x27;</span>"
            ]
          },
          "metadata": {}
        }
      ]
    },
    {
      "cell_type": "markdown",
      "source": [
        "# Exercícios"
      ],
      "metadata": {
        "id": "S0GVXMG__U5S"
      }
    },
    {
      "cell_type": "markdown",
      "source": [
        "1. Crie uma tabela chamada \"clientes\" com as colunas \"id\" (integer), \"nome\" (text) e \"email\" (text)."
      ],
      "metadata": {
        "id": "pjQKJ5Y5_W1h"
      }
    },
    {
      "cell_type": "code",
      "source": [
        "%%sql\n",
        "create table clientes (\n",
        "  id INTEGER PRIMARY KEY AUTOINCREMENT,\n",
        "  nome TEXT,\n",
        "  email TEXT\n",
        ")"
      ],
      "metadata": {
        "id": "LMhmooz2_UXv",
        "colab": {
          "base_uri": "https://localhost:8080/",
          "height": 34
        },
        "outputId": "0a6d425e-b5ea-460d-f348-0cc89a8d6684"
      },
      "execution_count": 4,
      "outputs": [
        {
          "output_type": "display_data",
          "data": {
            "text/plain": [
              "Running query in 'sqlite:///'"
            ],
            "text/html": [
              "<span style=\"None\">Running query in &#x27;sqlite:///&#x27;</span>"
            ]
          },
          "metadata": {}
        },
        {
          "output_type": "execute_result",
          "data": {
            "text/plain": [
              "++\n",
              "||\n",
              "++\n",
              "++"
            ],
            "text/html": [
              "<table>\n",
              "    <thead>\n",
              "        <tr>\n",
              "        </tr>\n",
              "    </thead>\n",
              "    <tbody>\n",
              "    </tbody>\n",
              "</table>"
            ]
          },
          "metadata": {},
          "execution_count": 4
        }
      ]
    },
    {
      "cell_type": "markdown",
      "source": [
        "2. Crie uma tabela chamada \"produtos\" com as colunas \"id\" (integer), \"nome\" (text), \"preco\" (numeric) e \"quantidade\" (integer)."
      ],
      "metadata": {
        "id": "b2Phsc8y_bb7"
      }
    },
    {
      "cell_type": "code",
      "source": [
        "%%sql\n",
        "create table produtos (\n",
        "  id INTEGER PRIMARY KEY AUTOINCREMENT,\n",
        "  nome TEXT,\n",
        "  preco NUMERIC,\n",
        "  quantidade INTEGER\n",
        ");"
      ],
      "metadata": {
        "id": "9cLSNPrn_aiP",
        "colab": {
          "base_uri": "https://localhost:8080/",
          "height": 34
        },
        "outputId": "a9b01f9b-a4dd-4534-dc04-047d7418e406"
      },
      "execution_count": 5,
      "outputs": [
        {
          "output_type": "display_data",
          "data": {
            "text/plain": [
              "Running query in 'sqlite:///'"
            ],
            "text/html": [
              "<span style=\"None\">Running query in &#x27;sqlite:///&#x27;</span>"
            ]
          },
          "metadata": {}
        },
        {
          "output_type": "execute_result",
          "data": {
            "text/plain": [
              "++\n",
              "||\n",
              "++\n",
              "++"
            ],
            "text/html": [
              "<table>\n",
              "    <thead>\n",
              "        <tr>\n",
              "        </tr>\n",
              "    </thead>\n",
              "    <tbody>\n",
              "    </tbody>\n",
              "</table>"
            ]
          },
          "metadata": {},
          "execution_count": 5
        }
      ]
    },
    {
      "cell_type": "markdown",
      "source": [
        "3. Crie uma tabela chamada \"pedidos\" com as colunas \"id\" (integer), \"cliente_id\" (integer) e \"total\" (numeric)."
      ],
      "metadata": {
        "id": "AR0fRyQ5_m3L"
      }
    },
    {
      "cell_type": "code",
      "source": [
        "%%sql\n",
        "create table pedidos (\n",
        "  id INTEGER PRIMARY KEY AUTOINCREMENT,\n",
        "  cliente_id INTEGER,\n",
        "  total NUMERIC,\n",
        "  FOREIGN KEY (cliente_id) REFERENCES clientes(id)\n",
        ");\n"
      ],
      "metadata": {
        "id": "FTwt4oNy_fgv",
        "colab": {
          "base_uri": "https://localhost:8080/",
          "height": 34
        },
        "outputId": "21a29ce6-2468-411e-8dd4-d608f691660a"
      },
      "execution_count": 7,
      "outputs": [
        {
          "output_type": "display_data",
          "data": {
            "text/plain": [
              "Running query in 'sqlite:///'"
            ],
            "text/html": [
              "<span style=\"None\">Running query in &#x27;sqlite:///&#x27;</span>"
            ]
          },
          "metadata": {}
        },
        {
          "output_type": "execute_result",
          "data": {
            "text/plain": [
              "++\n",
              "||\n",
              "++\n",
              "++"
            ],
            "text/html": [
              "<table>\n",
              "    <thead>\n",
              "        <tr>\n",
              "        </tr>\n",
              "    </thead>\n",
              "    <tbody>\n",
              "    </tbody>\n",
              "</table>"
            ]
          },
          "metadata": {},
          "execution_count": 7
        }
      ]
    },
    {
      "cell_type": "markdown",
      "source": [
        "4. Adicione uma coluna chamada \"endereco\" (text) na tabela \"clientes\""
      ],
      "metadata": {
        "id": "pYy7afHj_vHA"
      }
    },
    {
      "cell_type": "code",
      "source": [
        "%%sql\n",
        "ALTER TABLE clientes\n",
        "ADD COLUMN endereco TEXT;"
      ],
      "metadata": {
        "id": "hRfuOTQS_tMB",
        "colab": {
          "base_uri": "https://localhost:8080/",
          "height": 34
        },
        "outputId": "1b449a0c-ff55-4983-fef3-d75d229d6a80"
      },
      "execution_count": 8,
      "outputs": [
        {
          "output_type": "display_data",
          "data": {
            "text/plain": [
              "Running query in 'sqlite:///'"
            ],
            "text/html": [
              "<span style=\"None\">Running query in &#x27;sqlite:///&#x27;</span>"
            ]
          },
          "metadata": {}
        },
        {
          "output_type": "execute_result",
          "data": {
            "text/plain": [
              "++\n",
              "||\n",
              "++\n",
              "++"
            ],
            "text/html": [
              "<table>\n",
              "    <thead>\n",
              "        <tr>\n",
              "        </tr>\n",
              "    </thead>\n",
              "    <tbody>\n",
              "    </tbody>\n",
              "</table>"
            ]
          },
          "metadata": {},
          "execution_count": 8
        }
      ]
    },
    {
      "cell_type": "markdown",
      "source": [
        "5. Crie uma tabela chamada \"fornecedores\" com as colunas \"id\" (integer), \"nome\" (text) e \"telefone\" (text)."
      ],
      "metadata": {
        "id": "Px5lj1ru_x0X"
      }
    },
    {
      "cell_type": "code",
      "source": [
        "%%sql\n",
        "CREATE TABLE fornecedores (\n",
        "  id INTEGER PRIMARY KEY AUTOINCREMENT,\n",
        "  nome TEXT,\n",
        "  telefone TEXT\n",
        ");"
      ],
      "metadata": {
        "id": "PlGooXxi_wqf",
        "colab": {
          "base_uri": "https://localhost:8080/",
          "height": 34
        },
        "collapsed": true,
        "outputId": "377fc35a-616a-4119-d9bd-2c61372bd7dc"
      },
      "execution_count": 15,
      "outputs": [
        {
          "output_type": "display_data",
          "data": {
            "text/plain": [
              "Running query in 'sqlite:///'"
            ],
            "text/html": [
              "<span style=\"None\">Running query in &#x27;sqlite:///&#x27;</span>"
            ]
          },
          "metadata": {}
        },
        {
          "output_type": "execute_result",
          "data": {
            "text/plain": [
              "++\n",
              "||\n",
              "++\n",
              "++"
            ],
            "text/html": [
              "<table>\n",
              "    <thead>\n",
              "        <tr>\n",
              "        </tr>\n",
              "    </thead>\n",
              "    <tbody>\n",
              "    </tbody>\n",
              "</table>"
            ]
          },
          "metadata": {},
          "execution_count": 15
        }
      ]
    },
    {
      "cell_type": "markdown",
      "source": [
        "6. Exclua a tabela \"produtos\"."
      ],
      "metadata": {
        "id": "s0npA6pn_1vC"
      }
    },
    {
      "cell_type": "code",
      "source": [
        "%%sql\n",
        "DROP TABLE produtos;"
      ],
      "metadata": {
        "id": "s0SPqena_0d7",
        "colab": {
          "base_uri": "https://localhost:8080/",
          "height": 34
        },
        "outputId": "51d4e8a4-72bb-41a6-c874-5481013ca8ee"
      },
      "execution_count": 13,
      "outputs": [
        {
          "output_type": "display_data",
          "data": {
            "text/plain": [
              "Running query in 'sqlite:///'"
            ],
            "text/html": [
              "<span style=\"None\">Running query in &#x27;sqlite:///&#x27;</span>"
            ]
          },
          "metadata": {}
        },
        {
          "output_type": "execute_result",
          "data": {
            "text/plain": [
              "++\n",
              "||\n",
              "++\n",
              "++"
            ],
            "text/html": [
              "<table>\n",
              "    <thead>\n",
              "        <tr>\n",
              "        </tr>\n",
              "    </thead>\n",
              "    <tbody>\n",
              "    </tbody>\n",
              "</table>"
            ]
          },
          "metadata": {},
          "execution_count": 13
        }
      ]
    },
    {
      "cell_type": "markdown",
      "source": [
        "7. Insira um novo cliente com nome \"João\" e email \"joao@example.com\"."
      ],
      "metadata": {
        "id": "OS9awYhx_6LX"
      }
    },
    {
      "cell_type": "code",
      "source": [
        "%%sql\n",
        "\n",
        "INSERT INTO clientes (nome, email)\n",
        "VALUES (\"João\", \"joao@example.com\")"
      ],
      "metadata": {
        "id": "8CI8Al2-AC8h",
        "colab": {
          "base_uri": "https://localhost:8080/",
          "height": 52
        },
        "outputId": "edb6889b-2afc-49f8-a3e1-31538bdedaea"
      },
      "execution_count": 16,
      "outputs": [
        {
          "output_type": "display_data",
          "data": {
            "text/plain": [
              "Running query in 'sqlite:///'"
            ],
            "text/html": [
              "<span style=\"None\">Running query in &#x27;sqlite:///&#x27;</span>"
            ]
          },
          "metadata": {}
        },
        {
          "output_type": "display_data",
          "data": {
            "text/plain": [
              "1 rows affected."
            ],
            "text/html": [
              "<span style=\"color: green\">1 rows affected.</span>"
            ]
          },
          "metadata": {}
        },
        {
          "output_type": "execute_result",
          "data": {
            "text/plain": [
              "++\n",
              "||\n",
              "++\n",
              "++"
            ],
            "text/html": [
              "<table>\n",
              "    <thead>\n",
              "        <tr>\n",
              "        </tr>\n",
              "    </thead>\n",
              "    <tbody>\n",
              "    </tbody>\n",
              "</table>"
            ]
          },
          "metadata": {},
          "execution_count": 16
        }
      ]
    },
    {
      "cell_type": "code",
      "source": [
        "%%sql\n",
        "SELECT * FROM clientes;"
      ],
      "metadata": {
        "colab": {
          "base_uri": "https://localhost:8080/",
          "height": 78
        },
        "id": "eIXsEph3n_6e",
        "outputId": "e6b3093a-fa5d-49e9-903d-07846762aaa0"
      },
      "execution_count": 18,
      "outputs": [
        {
          "output_type": "display_data",
          "data": {
            "text/plain": [
              "Running query in 'sqlite:///'"
            ],
            "text/html": [
              "<span style=\"None\">Running query in &#x27;sqlite:///&#x27;</span>"
            ]
          },
          "metadata": {}
        },
        {
          "output_type": "execute_result",
          "data": {
            "text/plain": [
              "+----+------+------------------+----------+\n",
              "| id | nome |      email       | endereco |\n",
              "+----+------+------------------+----------+\n",
              "| 1  | João | joao@example.com |   None   |\n",
              "+----+------+------------------+----------+"
            ],
            "text/html": [
              "<table>\n",
              "    <thead>\n",
              "        <tr>\n",
              "            <th>id</th>\n",
              "            <th>nome</th>\n",
              "            <th>email</th>\n",
              "            <th>endereco</th>\n",
              "        </tr>\n",
              "    </thead>\n",
              "    <tbody>\n",
              "        <tr>\n",
              "            <td>1</td>\n",
              "            <td>João</td>\n",
              "            <td>joao@example.com</td>\n",
              "            <td>None</td>\n",
              "        </tr>\n",
              "    </tbody>\n",
              "</table>"
            ]
          },
          "metadata": {},
          "execution_count": 18
        }
      ]
    },
    {
      "cell_type": "markdown",
      "source": [
        "\n",
        "8. Insira um novo fornecedor com nome \"ABC Distribuidora\" e telefone \"123-456789\"."
      ],
      "metadata": {
        "id": "tOldfTC1AOA4"
      }
    },
    {
      "cell_type": "code",
      "source": [
        "%%sql\n",
        "INSERT INTO fornecedores (nome, telefone)\n",
        "VALUES (\"ABC Distribuidora\", \"123-456789\")"
      ],
      "metadata": {
        "id": "X2-LuI9M_9xE",
        "colab": {
          "base_uri": "https://localhost:8080/",
          "height": 52
        },
        "outputId": "59414910-1732-4a5c-f198-7f8d2cace9b4"
      },
      "execution_count": 19,
      "outputs": [
        {
          "output_type": "display_data",
          "data": {
            "text/plain": [
              "Running query in 'sqlite:///'"
            ],
            "text/html": [
              "<span style=\"None\">Running query in &#x27;sqlite:///&#x27;</span>"
            ]
          },
          "metadata": {}
        },
        {
          "output_type": "display_data",
          "data": {
            "text/plain": [
              "1 rows affected."
            ],
            "text/html": [
              "<span style=\"color: green\">1 rows affected.</span>"
            ]
          },
          "metadata": {}
        },
        {
          "output_type": "execute_result",
          "data": {
            "text/plain": [
              "++\n",
              "||\n",
              "++\n",
              "++"
            ],
            "text/html": [
              "<table>\n",
              "    <thead>\n",
              "        <tr>\n",
              "        </tr>\n",
              "    </thead>\n",
              "    <tbody>\n",
              "    </tbody>\n",
              "</table>"
            ]
          },
          "metadata": {},
          "execution_count": 19
        }
      ]
    },
    {
      "cell_type": "code",
      "source": [
        "%%sql\n",
        "SELECT * FROM fornecedores;"
      ],
      "metadata": {
        "colab": {
          "base_uri": "https://localhost:8080/",
          "height": 78
        },
        "id": "KiqrAyrUoVUE",
        "outputId": "36a96866-de8b-4c69-81c0-e5d34061a83b"
      },
      "execution_count": 20,
      "outputs": [
        {
          "output_type": "display_data",
          "data": {
            "text/plain": [
              "Running query in 'sqlite:///'"
            ],
            "text/html": [
              "<span style=\"None\">Running query in &#x27;sqlite:///&#x27;</span>"
            ]
          },
          "metadata": {}
        },
        {
          "output_type": "execute_result",
          "data": {
            "text/plain": [
              "+----+-------------------+------------+\n",
              "| id |        nome       |  telefone  |\n",
              "+----+-------------------+------------+\n",
              "| 1  | ABC Distribuidora | 123-456789 |\n",
              "+----+-------------------+------------+"
            ],
            "text/html": [
              "<table>\n",
              "    <thead>\n",
              "        <tr>\n",
              "            <th>id</th>\n",
              "            <th>nome</th>\n",
              "            <th>telefone</th>\n",
              "        </tr>\n",
              "    </thead>\n",
              "    <tbody>\n",
              "        <tr>\n",
              "            <td>1</td>\n",
              "            <td>ABC Distribuidora</td>\n",
              "            <td>123-456789</td>\n",
              "        </tr>\n",
              "    </tbody>\n",
              "</table>"
            ]
          },
          "metadata": {},
          "execution_count": 20
        }
      ]
    },
    {
      "cell_type": "markdown",
      "source": [
        "9. Exclua todos os clientes que possuem email \"joao@example.com\"."
      ],
      "metadata": {
        "id": "9zUNLg9sARy6"
      }
    },
    {
      "cell_type": "code",
      "source": [
        "%%sql\n",
        "SELECT\n",
        "  *\n",
        "FROM\n",
        "  clientes\n",
        "WHERE\n",
        "  email = \"joao@example.com\""
      ],
      "metadata": {
        "id": "al_MDkaBARHf",
        "colab": {
          "base_uri": "https://localhost:8080/",
          "height": 78
        },
        "outputId": "38a81a03-7a4d-4706-f425-f157e0273f72"
      },
      "execution_count": 21,
      "outputs": [
        {
          "output_type": "display_data",
          "data": {
            "text/plain": [
              "Running query in 'sqlite:///'"
            ],
            "text/html": [
              "<span style=\"None\">Running query in &#x27;sqlite:///&#x27;</span>"
            ]
          },
          "metadata": {}
        },
        {
          "output_type": "execute_result",
          "data": {
            "text/plain": [
              "+----+------+------------------+----------+\n",
              "| id | nome |      email       | endereco |\n",
              "+----+------+------------------+----------+\n",
              "| 1  | João | joao@example.com |   None   |\n",
              "+----+------+------------------+----------+"
            ],
            "text/html": [
              "<table>\n",
              "    <thead>\n",
              "        <tr>\n",
              "            <th>id</th>\n",
              "            <th>nome</th>\n",
              "            <th>email</th>\n",
              "            <th>endereco</th>\n",
              "        </tr>\n",
              "    </thead>\n",
              "    <tbody>\n",
              "        <tr>\n",
              "            <td>1</td>\n",
              "            <td>João</td>\n",
              "            <td>joao@example.com</td>\n",
              "            <td>None</td>\n",
              "        </tr>\n",
              "    </tbody>\n",
              "</table>"
            ]
          },
          "metadata": {},
          "execution_count": 21
        }
      ]
    },
    {
      "cell_type": "markdown",
      "source": [
        "10. Insira um novo pedido com cliente_id 1 e total 100.00."
      ],
      "metadata": {
        "id": "EvivJAkJAW3R"
      }
    },
    {
      "cell_type": "code",
      "source": [
        "%%sql\n",
        "INSERT INTO pedidos (cliente_id, total)\n",
        "VALUES (1, 100.00)"
      ],
      "metadata": {
        "id": "-vahONrAAWBn",
        "colab": {
          "base_uri": "https://localhost:8080/",
          "height": 52
        },
        "outputId": "466da031-43c4-4566-f41e-5e4139fdf78b"
      },
      "execution_count": 22,
      "outputs": [
        {
          "output_type": "display_data",
          "data": {
            "text/plain": [
              "Running query in 'sqlite:///'"
            ],
            "text/html": [
              "<span style=\"None\">Running query in &#x27;sqlite:///&#x27;</span>"
            ]
          },
          "metadata": {}
        },
        {
          "output_type": "display_data",
          "data": {
            "text/plain": [
              "1 rows affected."
            ],
            "text/html": [
              "<span style=\"color: green\">1 rows affected.</span>"
            ]
          },
          "metadata": {}
        },
        {
          "output_type": "execute_result",
          "data": {
            "text/plain": [
              "++\n",
              "||\n",
              "++\n",
              "++"
            ],
            "text/html": [
              "<table>\n",
              "    <thead>\n",
              "        <tr>\n",
              "        </tr>\n",
              "    </thead>\n",
              "    <tbody>\n",
              "    </tbody>\n",
              "</table>"
            ]
          },
          "metadata": {},
          "execution_count": 22
        }
      ]
    },
    {
      "cell_type": "code",
      "source": [
        "%%sql\n",
        "SELECT * FROM pedidos;"
      ],
      "metadata": {
        "colab": {
          "base_uri": "https://localhost:8080/",
          "height": 78
        },
        "id": "zeq12QcQou8f",
        "outputId": "c59125df-5dba-4d51-a8ee-034bc6683f90"
      },
      "execution_count": 24,
      "outputs": [
        {
          "output_type": "display_data",
          "data": {
            "text/plain": [
              "Running query in 'sqlite:///'"
            ],
            "text/html": [
              "<span style=\"None\">Running query in &#x27;sqlite:///&#x27;</span>"
            ]
          },
          "metadata": {}
        },
        {
          "output_type": "execute_result",
          "data": {
            "text/plain": [
              "+----+------------+-------+\n",
              "| id | cliente_id | total |\n",
              "+----+------------+-------+\n",
              "| 1  |     1      |  100  |\n",
              "+----+------------+-------+"
            ],
            "text/html": [
              "<table>\n",
              "    <thead>\n",
              "        <tr>\n",
              "            <th>id</th>\n",
              "            <th>cliente_id</th>\n",
              "            <th>total</th>\n",
              "        </tr>\n",
              "    </thead>\n",
              "    <tbody>\n",
              "        <tr>\n",
              "            <td>1</td>\n",
              "            <td>1</td>\n",
              "            <td>100</td>\n",
              "        </tr>\n",
              "    </tbody>\n",
              "</table>"
            ]
          },
          "metadata": {},
          "execution_count": 24
        }
      ]
    },
    {
      "cell_type": "markdown",
      "source": [
        "11.  Exclua todos os fornecedores."
      ],
      "metadata": {
        "id": "etbM6YibAekW"
      }
    },
    {
      "cell_type": "code",
      "source": [
        "%%sql\n",
        "DELETE FROM fornecedores;"
      ],
      "metadata": {
        "id": "p24domb9Ad6d",
        "colab": {
          "base_uri": "https://localhost:8080/",
          "height": 52
        },
        "outputId": "49014d40-528f-43e2-ab96-eecd9e848aae"
      },
      "execution_count": 25,
      "outputs": [
        {
          "output_type": "display_data",
          "data": {
            "text/plain": [
              "Running query in 'sqlite:///'"
            ],
            "text/html": [
              "<span style=\"None\">Running query in &#x27;sqlite:///&#x27;</span>"
            ]
          },
          "metadata": {}
        },
        {
          "output_type": "display_data",
          "data": {
            "text/plain": [
              "1 rows affected."
            ],
            "text/html": [
              "<span style=\"color: green\">1 rows affected.</span>"
            ]
          },
          "metadata": {}
        },
        {
          "output_type": "execute_result",
          "data": {
            "text/plain": [
              "++\n",
              "||\n",
              "++\n",
              "++"
            ],
            "text/html": [
              "<table>\n",
              "    <thead>\n",
              "        <tr>\n",
              "        </tr>\n",
              "    </thead>\n",
              "    <tbody>\n",
              "    </tbody>\n",
              "</table>"
            ]
          },
          "metadata": {},
          "execution_count": 25
        }
      ]
    }
  ]
}